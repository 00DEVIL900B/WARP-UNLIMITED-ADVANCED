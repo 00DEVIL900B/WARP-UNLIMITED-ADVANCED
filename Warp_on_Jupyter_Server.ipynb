{
  "nbformat": 4,
  "nbformat_minor": 0,
  "metadata": {
    "colab": {
      "provenance": []
    },
    "kernelspec": {
      "name": "python3",
      "display_name": "Python 3"
    },
    "language_info": {
      "name": "python"
    }
  },
  "cells": [
    {
      "cell_type": "markdown",
      "source": [
        "**Run the Following Code and enter your WARP ID:**"
      ],
      "metadata": {
        "id": "MIem627NYSoe"
      }
    },
    {
      "cell_type": "code",
      "execution_count": 2,
      "metadata": {
        "id": "u-iCa939Vv5C",
        "colab": {
          "base_uri": "https://localhost:8080/",
          "height": 415
        },
        "outputId": "c383ec4d-197d-42b8-8fbc-c46044b686c3"
      },
      "outputs": [
        {
          "name": "stdout",
          "output_type": "stream",
          "text": [
            "[#] Enter the WARP+ ID:\n",
            "f0c31a55-ac64-473e-8be6-bc586bde633f\n"
          ]
        },
        {
          "output_type": "error",
          "ename": "RuntimeError",
          "evalue": "ignored",
          "traceback": [
            "\u001b[0;31m---------------------------------------------------------------------------\u001b[0m",
            "\u001b[0;31mRuntimeError\u001b[0m                              Traceback (most recent call last)",
            "\u001b[0;32m<ipython-input-2-1f2fc03f33bb>\u001b[0m in \u001b[0;36m<module>\u001b[0;34m\u001b[0m\n\u001b[1;32m     80\u001b[0m   \u001b[0manim\u001b[0m \u001b[0;34m=\u001b[0m \u001b[0masyncio\u001b[0m\u001b[0;34m.\u001b[0m\u001b[0mget_event_loop\u001b[0m\u001b[0;34m(\u001b[0m\u001b[0;34m)\u001b[0m\u001b[0;34m\u001b[0m\u001b[0;34m\u001b[0m\u001b[0m\n\u001b[1;32m     81\u001b[0m   \u001b[0manim_coroutine\u001b[0m \u001b[0;34m=\u001b[0m \u001b[0manimation\u001b[0m\u001b[0;34m(\u001b[0m\u001b[0;34m)\u001b[0m\u001b[0;34m\u001b[0m\u001b[0;34m\u001b[0m\u001b[0m\n\u001b[0;32m---> 82\u001b[0;31m   \u001b[0mresult\u001b[0m \u001b[0;34m=\u001b[0m \u001b[0manim\u001b[0m\u001b[0;34m.\u001b[0m\u001b[0mrun_until_complete\u001b[0m\u001b[0;34m(\u001b[0m\u001b[0manim_coroutine\u001b[0m\u001b[0;34m)\u001b[0m\u001b[0;34m\u001b[0m\u001b[0;34m\u001b[0m\u001b[0m\n\u001b[0m\u001b[1;32m     83\u001b[0m   \u001b[0;32mif\u001b[0m \u001b[0mresult\u001b[0m \u001b[0;34m==\u001b[0m \u001b[0;36m200\u001b[0m\u001b[0;34m:\u001b[0m\u001b[0;34m\u001b[0m\u001b[0;34m\u001b[0m\u001b[0m\n\u001b[1;32m     84\u001b[0m     \u001b[0mg\u001b[0m \u001b[0;34m+=\u001b[0m \u001b[0;36m1\u001b[0m\u001b[0;34m\u001b[0m\u001b[0;34m\u001b[0m\u001b[0m\n",
            "\u001b[0;32m/usr/lib/python3.7/asyncio/base_events.py\u001b[0m in \u001b[0;36mrun_until_complete\u001b[0;34m(self, future)\u001b[0m\n\u001b[1;32m    561\u001b[0m         \"\"\"\n\u001b[1;32m    562\u001b[0m         \u001b[0mself\u001b[0m\u001b[0;34m.\u001b[0m\u001b[0m_check_closed\u001b[0m\u001b[0;34m(\u001b[0m\u001b[0;34m)\u001b[0m\u001b[0;34m\u001b[0m\u001b[0;34m\u001b[0m\u001b[0m\n\u001b[0;32m--> 563\u001b[0;31m         \u001b[0mself\u001b[0m\u001b[0;34m.\u001b[0m\u001b[0m_check_runnung\u001b[0m\u001b[0;34m(\u001b[0m\u001b[0;34m)\u001b[0m\u001b[0;34m\u001b[0m\u001b[0;34m\u001b[0m\u001b[0m\n\u001b[0m\u001b[1;32m    564\u001b[0m \u001b[0;34m\u001b[0m\u001b[0m\n\u001b[1;32m    565\u001b[0m         \u001b[0mnew_task\u001b[0m \u001b[0;34m=\u001b[0m \u001b[0;32mnot\u001b[0m \u001b[0mfutures\u001b[0m\u001b[0;34m.\u001b[0m\u001b[0misfuture\u001b[0m\u001b[0;34m(\u001b[0m\u001b[0mfuture\u001b[0m\u001b[0;34m)\u001b[0m\u001b[0;34m\u001b[0m\u001b[0;34m\u001b[0m\u001b[0m\n",
            "\u001b[0;32m/usr/lib/python3.7/asyncio/base_events.py\u001b[0m in \u001b[0;36m_check_runnung\u001b[0;34m(self)\u001b[0m\n\u001b[1;32m    521\u001b[0m     \u001b[0;32mdef\u001b[0m \u001b[0m_check_runnung\u001b[0m\u001b[0;34m(\u001b[0m\u001b[0mself\u001b[0m\u001b[0;34m)\u001b[0m\u001b[0;34m:\u001b[0m\u001b[0;34m\u001b[0m\u001b[0;34m\u001b[0m\u001b[0m\n\u001b[1;32m    522\u001b[0m         \u001b[0;32mif\u001b[0m \u001b[0mself\u001b[0m\u001b[0;34m.\u001b[0m\u001b[0mis_running\u001b[0m\u001b[0;34m(\u001b[0m\u001b[0;34m)\u001b[0m\u001b[0;34m:\u001b[0m\u001b[0;34m\u001b[0m\u001b[0;34m\u001b[0m\u001b[0m\n\u001b[0;32m--> 523\u001b[0;31m             \u001b[0;32mraise\u001b[0m \u001b[0mRuntimeError\u001b[0m\u001b[0;34m(\u001b[0m\u001b[0;34m'This event loop is already running'\u001b[0m\u001b[0;34m)\u001b[0m\u001b[0;34m\u001b[0m\u001b[0;34m\u001b[0m\u001b[0m\n\u001b[0m\u001b[1;32m    524\u001b[0m         \u001b[0;32mif\u001b[0m \u001b[0mevents\u001b[0m\u001b[0;34m.\u001b[0m\u001b[0m_get_running_loop\u001b[0m\u001b[0;34m(\u001b[0m\u001b[0;34m)\u001b[0m \u001b[0;32mis\u001b[0m \u001b[0;32mnot\u001b[0m \u001b[0;32mNone\u001b[0m\u001b[0;34m:\u001b[0m\u001b[0;34m\u001b[0m\u001b[0;34m\u001b[0m\u001b[0m\n\u001b[1;32m    525\u001b[0m             raise RuntimeError(\n",
            "\u001b[0;31mRuntimeError\u001b[0m: This event loop is already running"
          ]
        }
      ],
      "source": [
        "!pip install nest-asyncio\n",
        "\n",
        "import asyncio\n",
        "import os\n",
        "import urllib.request\n",
        "from datetime import datetime\n",
        "from json import dumps\n",
        "from nest_asyncio import apply\n",
        "from random import choice\n",
        "from string import ascii_letters, digits\n",
        "from sys import stdout\n",
        "from time import sleep\n",
        "from warnings import filterwarnings\n",
        "\n",
        "apply()\n",
        "filterwarnings(\"ignore\", category=DeprecationWarning)\n",
        "os.system(\"title WARP UNLIMITED ADVANCED\")\n",
        "os.system(\"cls\" if os.name == \"nt\" else \"clear\")\n",
        "\n",
        "referrer = input(\"[#] Enter the WARP+ ID:\\n\")\n",
        "\n",
        "g = 0\n",
        "b = 0\n",
        "\n",
        "def genString(stringLength):\n",
        "  try:\n",
        "    letters = ascii_letters + digits\n",
        "    return ''.join(choice(letters) for i in range(stringLength))\n",
        "  except Exception as error:\n",
        "    print(error)\n",
        "\n",
        "def digitString(stringLength):\n",
        "  try:\n",
        "    digit = digits\n",
        "    return ''.join((choice(digit) for i in range(stringLength)))\n",
        "  except Exception as error:\n",
        "    print(error)\n",
        "\n",
        "url = f\"https://api.cloudflareclient.com/v0a{digitString(3)}/reg\"\n",
        "\n",
        "async def run():\n",
        "  try:\n",
        "    install_id = genString(22)\n",
        "    body = {\n",
        "      \"key\": \"{}=\".format(genString(43)),\n",
        "      \"install_id\": install_id,\n",
        "      \"fcm_token\": \"{}:APA91b{}\".format(install_id, genString(134)),\n",
        "      \"referrer\": referrer,\n",
        "      \"warp_enabled\": False,\n",
        "      \"tos\": datetime.now().isoformat()[:-3] + \"+02:00\",\n",
        "      \"type\": \"Android\",\n",
        "      \"locale\": \"es_ES\"\n",
        "    }\n",
        "    data = dumps(body).encode(\"utf8\")\n",
        "    headers = {\n",
        "      \"Content-Type\": \"application/json; charset=UTF-8\",\n",
        "      \"Host\": \"api.cloudflareclient.com\",\n",
        "      \"Connection\": \"Keep-Alive\",\n",
        "      \"Accept-Encoding\": \"gzip\",\n",
        "      \"User-Agent\": \"okhttp/3.12.1\"\n",
        "    }\n",
        "    req = urllib.request.Request(url, data, headers)\n",
        "    response = urllib.request.urlopen(req)\n",
        "    status_code = response.getcode()\n",
        "    return status_code\n",
        "  except Exception as error:\n",
        "    return error\n",
        "\n",
        "async def animation():\n",
        "  cooldown = 0.3\n",
        "  os.system(\"cls\" if os.name == \"nt\" else \"clear\")\n",
        "  animation = [\"[□□□□□□□□□□] 0%\", \"[■□□□□□□□□□] 10%\", \"[■■□□□□□□□□] 20%\", \"[■■■□□□□□□□] 30%\", \"[■■■■□□□□□□] 40%\", \"[■■■■■□□□□□] 50%\", \"[■■■■■■□□□□] 60%\", \"[■■■■■■■□□□] 70%\", \"[■■■■■■■■□□] 80%\", \"[■■■■■■■■■□] 90%\", \"[■■■■■■■■■■] 100%\"] \n",
        "  for i in range(len(animation)):\n",
        "    stdout.write(\"\\r[∆] Progress: \" + animation[i % len(animation)])\n",
        "    stdout.flush()\n",
        "    if i == 2:\n",
        "      result = await run()\n",
        "      if result != 200:\n",
        "        cooldown = 0.1\n",
        "    await asyncio.sleep(cooldown)\n",
        "  return result\n",
        "\n",
        "while True:\n",
        "  anim = asyncio.get_event_loop()\n",
        "  anim_coroutine = animation()\n",
        "  result = anim.run_until_complete(anim_coroutine)\n",
        "  if result == 200:\n",
        "    g += 1\n",
        "    print(f\"\\n[•] WARP+ ID: {referrer}\")\n",
        "    print(f\"[✓] Added: {g} GB\")\n",
        "    print(f\"[#] Total: {g} Good {b} Bad\")\n",
        "    for i in range(20,-1,-1):\n",
        "      stdout.write(f\"\\033[1K\\r[!] Cooldown: {i} seconds\")\n",
        "      stdout.flush()\n",
        "      sleep(1)\n",
        "  else:\n",
        "    b += 1\n",
        "    print(\"\\n[×] Error:\", result)\n",
        "    print(f\"[#] Total: {g} Good {b} Bad\")\n",
        "    for i in range(30,-1,-1):\n",
        "      stdout.write(f\"\\033[1K\\r[!] Cooldown: {i} seconds\")\n",
        "      stdout.flush()\n",
        "      sleep(1)\n"
      ]
    },
    {
      "cell_type": "markdown",
      "source": [
        "**TO GET WRAP ID: Open Warp app (or 1.1.1.1) then Go to Settings > Advanced > Diagnostics and copy the ID under CLIENT CONFIGURATION section**"
      ],
      "metadata": {
        "id": "OkDVckQMYkw2"
      }
    }
  ]
}