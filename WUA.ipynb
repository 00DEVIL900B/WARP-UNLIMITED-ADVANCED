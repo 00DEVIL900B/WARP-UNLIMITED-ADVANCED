{
  "cells": [
    {
      "cell_type": "markdown",
      "metadata": {
        "colab_type": "text",
        "id": "view-in-github"
      },
      "source": [
        "<a href=\"https://colab.research.google.com/github/TheCaduceus/WARP-UNLIMITED-ADVANCED/blob/main/WUA.ipynb\" target=\"_parent\"><img src=\"https://colab.research.google.com/assets/colab-badge.svg\" alt=\"Open In Colab\"/></a>"
      ]
    },
    {
      "cell_type": "markdown",
      "metadata": {
        "id": "MIem627NYSoe"
      },
      "source": [
        "**Run the Following Code and enter your WARP ID:**"
      ]
    },
    {
      "cell_type": "code",
      "execution_count": null,
      "metadata": {
        "cellView": "form",
        "id": "u-iCa939Vv5C"
      },
      "outputs": [],
      "source": [
        "#@markdown <br><center><img src='https://1.1.1.1/media/warp-desktop.png' height=\"200\" alt=\"Wrap+\"/></center>\n",
        "#@markdown <center><h3><b><i>WARP+ (1.1.1.1)</i></b></h3></center><br>\n",
        "!pip install nest_asyncio\n",
        "\n",
        "import asyncio\n",
        "import datetime\n",
        "import json\n",
        "import nest_asyncio\n",
        "import os\n",
        "import random\n",
        "import string\n",
        "import sys\n",
        "import time\n",
        "import urllib.request\n",
        "import warnings\n",
        "\n",
        "nest_asyncio.apply()\n",
        "__import__('IPython').embed()\n",
        "os.system(\"To Get your Wrap ID Go to Settings > Advanced > Diagnostics and copy the ID under CLIENT CONFIGURATION section\")\n",
        "WARP_CLIENT_ID = \"\" #@param {type:\"string\"}\n",
        "referrer = WARP_CLIENT_ID\n",
        "\n",
        "warnings.filterwarnings(\"ignore\", category=DeprecationWarning)\n",
        "g = 0\n",
        "b = 0\n",
        "\n",
        "def genString(stringLength):\n",
        "  try:\n",
        "    letters = string.ascii_letters + string.digits\n",
        "    return ''.join(random.choice(letters) for i in range(stringLength))\n",
        "  except Exception as error:\n",
        "    print(error)\n",
        "\n",
        "def digitString(stringLength):\n",
        "  try:\n",
        "    digit = string.digits\n",
        "    return ''.join((random.choice(digit) for i in range(stringLength)))\n",
        "  except Exception as error:\n",
        "    print(error)\n",
        "\n",
        "url = f\"https://api.cloudflareclient.com/v0a{digitString(3)}/reg\"\n",
        "\n",
        "async def run():\n",
        "  try:\n",
        "    install_id = genString(22)\n",
        "    body = {\n",
        "      \"key\": \"{}=\".format(genString(43)),\n",
        "      \"install_id\": install_id,\n",
        "      \"fcm_token\": \"{}:APA91b{}\".format(install_id, genString(134)),\n",
        "      \"referrer\": referrer,\n",
        "      \"warp_enabled\": False,\n",
        "      \"tos\": datetime.datetime.now().isoformat()[:-3] + \"+02:00\",\n",
        "      \"type\": \"Android\",\n",
        "      \"locale\": \"es_ES\"\n",
        "    }\n",
        "    data = json.dumps(body).encode(\"utf8\")\n",
        "    headers = {\n",
        "      \"Content-Type\": \"application/json; charset=UTF-8\",\n",
        "      \"Host\": \"api.cloudflareclient.com\",\n",
        "      \"Connection\": \"Keep-Alive\",\n",
        "      \"Accept-Encoding\": \"gzip\",\n",
        "      \"User-Agent\": \"okhttp/3.12.1\"\n",
        "    }\n",
        "    req = urllib.request.Request(url, data, headers)\n",
        "    response = urllib.request.urlopen(req)\n",
        "    status_code = response.getcode()\n",
        "    return status_code\n",
        "  except Exception as error:\n",
        "    print(\"\\n[×] Error:\", error)\n",
        "\n",
        "async def animation():\n",
        "  os.system(\"cls\" if os.name == \"nt\" else \"clear\")\n",
        "  animation = [\"[□□□□□□□□□□] 0%\", \"[■□□□□□□□□□] 10%\", \"[■■□□□□□□□□] 20%\", \"[■■■□□□□□□□] 30%\", \"[■■■■□□□□□□] 40%\", \"[■■■■■□□□□□] 50%\", \"[■■■■■■□□□□] 60%\", \"[■■■■■■■□□□] 70%\", \"[■■■■■■■■□□] 80%\", \"[■■■■■■■■■□] 90%\", \"[■■■■■■■■■■] 100%\"] \n",
        "  for i in range(len(animation)):\n",
        "    sys.stdout.write(\"\\r[∆] Progress: \" + animation[i % len(animation)])\n",
        "    sys.stdout.flush()\n",
        "    if i == 1:\n",
        "      result = await run()\n",
        "    await asyncio.sleep(0.4)\n",
        "  return result\n",
        "\n",
        "while True:\n",
        "  anim = asyncio.get_event_loop()\n",
        "  anim_coroutine = animation()\n",
        "  result = anim.run_until_complete(anim_coroutine)\n",
        "  if result == 200:\n",
        "    g += 1\n",
        "    print(f\"\\n[•] WARP+ ID: {referrer}\")\n",
        "    print(f\"[✓] Added: {g} GB\")\n",
        "    print(f\"[#] Total: {g} Good {b} Bad\")\n",
        "    for i in range(20,-1,-1):\n",
        "      sys.stdout.write(f\"\\033[1K\\r[!] Cooldown: {i} seconds\")\n",
        "      sys.stdout.flush()\n",
        "      time.sleep(1)\n",
        "  else:\n",
        "    b += 1\n",
        "    print(f\"[#] Total: {g} Good {b} Bad\")\n",
        "    for i in range(30,-1,-1):\n",
        "      sys.stdout.write(f\"\\033[1K\\r[!] Cooldown: {i} seconds\")\n",
        "      sys.stdout.flush()\n",
        "      time.sleep(1)"
      ]
    }
  ],
  "metadata": {
    "colab": {
      "include_colab_link": true,
      "name": "WUA.ipynb",
      "provenance": []
    },
    "kernelspec": {
      "display_name": "Python 3",
      "language": "python",
      "name": "python3"
    },
    "language_info": {
      "name": "python",
      "version": "3.10.7 (tags/v3.10.7:6cc6b13, Sep  5 2022, 14:08:36) [MSC v.1933 64 bit (AMD64)]"
    },
    "vscode": {
      "interpreter": {
        "hash": "d633fdc55d22d9d6aebcf8f4a720fc7c6bb499f4507b3312a63aa358ad1aae58"
      }
    }
  },
  "nbformat": 4,
  "nbformat_minor": 0
}
