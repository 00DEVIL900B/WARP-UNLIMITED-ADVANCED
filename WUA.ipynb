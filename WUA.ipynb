{
  "cells": [
    {
      "cell_type": "markdown",
      "metadata": {
        "colab_type": "text",
        "id": "view-in-github"
      },
      "source": [
        "<a href=\"https://colab.research.google.com/github/TheCaduceus/WARP-UNLIMITED-ADVANCED/blob/main/WUA.ipynb\" target=\"_parent\"><img src=\"https://colab.research.google.com/assets/colab-badge.svg\" alt=\"Open In Colab\"/></a>"
      ]
    },
    {
      "cell_type": "markdown",
      "metadata": {
        "id": "MIem627NYSoe"
      },
      "source": [
        "**Run the Following Code and enter your WARP ID:**"
      ]
    },
    {
      "cell_type": "code",
      "execution_count": null,
      "metadata": {
        "cellView": "form",
        "id": "u-iCa939Vv5C"
      },
      "outputs": [],
      "source": [
        "#@markdown <br><center><img src='https://1.1.1.1/media/warp-desktop.png' height=\"200\" alt=\"Wrap+\"/></center>\n",
        "#@markdown <center><h3><b><i>WARP+ (1.1.1.1)</i></b></h3></center><br>\n",
        "import datetime\n",
        "import json\n",
        "import os\n",
        "import random\n",
        "import string\n",
        "import sys\n",
        "import time\n",
        "import urllib.request\n",
        "\n",
        "os.system(\"To Get your Wrap ID Go to Settings > Advanced > Diagnostics and copy the ID under CLIENT CONFIGURATION section\")\n",
        "WARP_CLIENT_ID = \"\" #@param {type:\"string\"}\n",
        "referrer = WARP_CLIENT_ID\n",
        "def genString(stringLength):\n",
        "\ttry:\n",
        "\t\tletters = string.ascii_letters + string.digits\n",
        "\t\treturn ''.join(random.choice(letters) for i in range(stringLength))\n",
        "\texcept Exception as error:\n",
        "\t\tprint(error)\n",
        "def digitString(stringLength):\n",
        "\ttry:\n",
        "\t\tdigit = string.digits\n",
        "\t\treturn ''.join((random.choice(digit) for i in range(stringLength)))\n",
        "\texcept Exception as error:\n",
        "\t\tprint(error)\n",
        "url = f'https://api.cloudflareclient.com/v0a{digitString(3)}/reg'\n",
        "def run():\n",
        "\ttry:\n",
        "\t\tinstall_id = genString(22)\n",
        "\t\tbody = {\"key\": \"{}=\".format(genString(43)),\n",
        "\t\t\t\t\"install_id\": install_id,\n",
        "\t\t\t\t\"fcm_token\": \"{}:APA91b{}\".format(install_id, genString(134)),\n",
        "\t\t\t\t\"referrer\": referrer,\n",
        "\t\t\t\t\"warp_enabled\": False,\n",
        "\t\t\t\t\"tos\": datetime.datetime.now().isoformat()[:-3] + \"+02:00\",\n",
        "\t\t\t\t\"type\": \"Android\",\n",
        "\t\t\t\t\"locale\": \"es_ES\"}\n",
        "\t\tdata = json.dumps(body).encode('utf8')\n",
        "\t\theaders = {'Content-Type': 'application/json; charset=UTF-8',\n",
        "\t\t\t\t\t'Host': 'api.cloudflareclient.com',\n",
        "\t\t\t\t\t'Connection': 'Keep-Alive',\n",
        "\t\t\t\t\t'Accept-Encoding': 'gzip',\n",
        "\t\t\t\t\t'User-Agent': 'okhttp/3.12.1'\n",
        "\t\t\t\t\t}\n",
        "\t\treq         = urllib.request.Request(url, data, headers)\n",
        "\t\tresponse    = urllib.request.urlopen(req)\n",
        "\t\tstatus_code = response.getcode()\n",
        "\t\treturn status_code\n",
        "\texcept Exception as error:\n",
        "\t\tprint(\"\")\n",
        "\t\tprint(\"[×] Error:\", error)\n",
        "\n",
        "g = 0\n",
        "b = 0\n",
        "while True:\n",
        "\tos.system('cls' if os.name == 'nt' else 'clear')\n",
        "\tanimation = [\"[■□□□□□□□□□] 10%\",\"[■■□□□□□□□□] 20%\", \"[■■■□□□□□□□] 30%\", \"[■■■■□□□□□□] 40%\", \"[■■■■■□□□□□] 50%\", \"[■■■■■■□□□□] 60%\", \"[■■■■■■■□□□] 70%\", \"[■■■■■■■■□□] 80%\", \"[■■■■■■■■■□] 90%\", \"[■■■■■■■■■■] 100%\"] \n",
        "\tfor i in range(len(animation)):\n",
        "\t\ttime.sleep(0.2)\n",
        "\t\tsys.stdout.write(\"\\r[∆] Progress: \" + animation[i % len(animation)])\n",
        "\t\tsys.stdout.flush()\n",
        "\tresult = run()\n",
        "\tif result == 200:\n",
        "\t\tg += 1\n",
        "\t\tprint(f\"\\n[•] WARP+ ID: {referrer}\")\n",
        "\t\tprint(f\"[✓] Added: {g} GB\")\n",
        "\t\tprint(f\"[#] Total: {g} Good {b} Bad\")\n",
        "\t\tfor i in range(10,-1,-1):\n",
        "\t\t\tsys.stdout.write(f\"\\033[1K\\r[!] Cooldown: {i} seconds\")\n",
        "\t\t\tsys.stdout.flush()\n",
        "\t\t\ttime.sleep(1)\n",
        "\telse:\n",
        "\t\tb += 1\n",
        "\t\tprint(f\"[#] Total: {g} Good {b} Bad\")\n",
        "\t\tfor i in range(10,-1,-1):\n",
        "\t\t\tsys.stdout.write(f\"\\033[1K\\r[!] Cooldown: {i} seconds\")\n",
        "\t\t\tsys.stdout.flush()\n",
        "\t\t\ttime.sleep(1)"
      ]
    }
  ],
  "metadata": {
    "colab": {
      "include_colab_link": true,
      "name": "WUA.ipynb",
      "provenance": []
    },
    "kernelspec": {
      "display_name": "Python 3",
      "language": "python",
      "name": "python3"
    },
    "language_info": {
      "name": "python",
      "version": "3.10.7 (tags/v3.10.7:6cc6b13, Sep  5 2022, 14:08:36) [MSC v.1933 64 bit (AMD64)]"
    },
    "vscode": {
      "interpreter": {
        "hash": "d633fdc55d22d9d6aebcf8f4a720fc7c6bb499f4507b3312a63aa358ad1aae58"
      }
    }
  },
  "nbformat": 4,
  "nbformat_minor": 0
}
